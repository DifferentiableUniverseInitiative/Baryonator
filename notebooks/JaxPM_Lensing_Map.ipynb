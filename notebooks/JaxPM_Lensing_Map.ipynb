{
 "cells": [
  {
   "cell_type": "code",
   "execution_count": 11,
   "metadata": {},
   "outputs": [],
   "source": [
    "## copied from https://github.com/DifferentiableUniverseInitiative/JaxPM/blob/main/notebooks/lensing_demo.ipynb\n",
    "## we want to convert this later to include gas stuff too"
   ]
  },
  {
   "cell_type": "code",
   "execution_count": 1,
   "metadata": {},
   "outputs": [
    {
     "name": "stdout",
     "output_type": "stream",
     "text": [
      "Populating the interactive namespace from numpy and matplotlib\n"
     ]
    }
   ],
   "source": [
    "%load_ext autoreload\n",
    "%autoreload 2\n",
    "%pylab inline"
   ]
  },
  {
   "cell_type": "code",
   "execution_count": 2,
   "metadata": {},
   "outputs": [],
   "source": [
    "import logging\n",
    "\n",
    "logger = logging.getLogger(\"root\")\n",
    "\n",
    "class CheckTypesFilter(logging.Filter):\n",
    "    def filter(self, record):\n",
    "        return \"check_types\" not in record.getMessage()\n",
    "logger.addFilter(CheckTypesFilter())"
   ]
  },
  {
   "cell_type": "code",
   "execution_count": 4,
   "metadata": {},
   "outputs": [],
   "source": [
    "\n",
    "!pip install --quiet git+https://github.com/DifferentiableUniverseInitiative/JaxPM.git"
   ]
  },
  {
   "cell_type": "code",
   "execution_count": 5,
   "metadata": {},
   "outputs": [],
   "source": [
    "import jax\n",
    "import jax.numpy as jnp\n",
    "\n",
    "import jax_cosmo as jc\n",
    "\n",
    "from jax.experimental.ode import odeint\n",
    "from jaxpm.painting import cic_paint, cic_paint_2d\n",
    "from jaxpm.pm import linear_field, lpt, make_ode_fn\n",
    "from jaxpm.lensing import density_plane, convergence_Born"
   ]
  },
  {
   "cell_type": "code",
   "execution_count": 6,
   "metadata": {},
   "outputs": [
    {
     "name": "stderr",
     "output_type": "stream",
     "text": [
      "WARNING:absl:No GPU/TPU found, falling back to CPU. (Set TF_CPP_MIN_LOG_LEVEL=0 and rerun for more info.)\n"
     ]
    }
   ],
   "source": [
    "# Below are a few parameters that generate a low resolution version of the k-TNG simulation\n",
    "\n",
    "box_size = [200.,200.,4000.]    # Transverse comoving size of the simulation volume\n",
    "nc = [64, 64, 320]              # Number of transverse voxels in the simulation volume\n",
    "lensplane_width = 102.5         # Width of each lensplane\n",
    "field_size = 5                  # Size of the lensing field in degrees\n",
    "field_npix = 128                # Number of pixels in the lensing field\n",
    "z_source = jnp.linspace(0,2)    # Source planes"
   ]
  },
  {
   "cell_type": "code",
   "execution_count": 7,
   "metadata": {},
   "outputs": [],
   "source": [
    "# Defining the coordinate grid for lensing map\n",
    "import astropy.units as u\n",
    "xgrid, ygrid = np.meshgrid(np.linspace(0, field_size, field_npix, endpoint=False), # range of X coordinates\n",
    "                           np.linspace(0, field_size, field_npix, endpoint=False)) # range of Y coordinates\n",
    "\n",
    "coords = np.stack([xgrid, ygrid], axis=0)*u.deg\n",
    "c = coords.reshape([2, -1]).T.to(u.rad)"
   ]
  },
  {
   "cell_type": "code",
   "execution_count": 8,
   "metadata": {},
   "outputs": [],
   "source": [
    "@jax.jit\n",
    "def make_map(Omega_c=0.2589, sigma8=0.8159):\n",
    "    # Instantiates a cosmology with desired parameters\n",
    "    cosmology = jc.Planck15(Omega_c=Omega_c, sigma8=sigma8)\n",
    "\n",
    "    # Planning out the scale factor stepping to extract desired lensplanes\n",
    "    n_lens = int(box_size[-1] // lensplane_width)\n",
    "    r = jnp.linspace(0., box_size[-1], n_lens+1)\n",
    "    r_center = 0.5*(r[1:] + r[:-1])\n",
    "\n",
    "    # Retrieve the scale factor corresponding to these distances\n",
    "    a = jc.background.a_of_chi(cosmology, r)\n",
    "    a_center = jc.background.a_of_chi(cosmology, r_center)\n",
    "\n",
    "    # Then one step per lens plane\n",
    "    stages = a_center[::-1]\n",
    "\n",
    "    # Create a small function to generate the matter power spectrum\n",
    "    k = jnp.logspace(-4, 1, 128)\n",
    "    pk = jc.power.linear_matter_power(cosmology, k)\n",
    "    pk_fn = lambda x: jc.scipy.interpolate.interp(x.reshape([-1]), k, pk).reshape(x.shape)\n",
    "\n",
    "    # Create initial conditions\n",
    "    initial_conditions = linear_field(nc, box_size, pk_fn, seed=jax.random.PRNGKey(0))\n",
    "\n",
    "    # Create particles\n",
    "    particles = jnp.stack(jnp.meshgrid(*[jnp.arange(s) for s in nc]),axis=-1).reshape([-1,3])\n",
    "\n",
    "    cosmo = jc.Planck15(Omega_c=Omega_c, sigma8=sigma8)\n",
    "\n",
    "    # Initial displacement\n",
    "    dx, p, f = lpt(cosmo, initial_conditions, particles, 0.1)\n",
    "\n",
    "    # Evolve the simulation forward\n",
    "    res = odeint(make_ode_fn(nc), [particles+dx, p], \n",
    "                 jnp.concatenate([jnp.atleast_1d(0.1), stages]), cosmo, rtol=1e-5, atol=1e-5)\n",
    "    \n",
    "    # Extract the lensplanes\n",
    "    lensplanes = []\n",
    "    for i in range(len(a_center)):\n",
    "        dx = box_size[0]/64\n",
    "        dz = lensplane_width\n",
    "        plane = density_plane(res[0][::-1][i],\n",
    "                              nc,\n",
    "                              (i+0.5)*lensplane_width/box_size[-1]*nc[-1],\n",
    "                              width=lensplane_width/box_size[-1]*nc[-1],\n",
    "                              plane_resolution=64\n",
    "                           )\n",
    "        lensplanes.append({'r': r_center[i], \n",
    "                           'a': stages[::-1][i], \n",
    "                           'plane': plane,\n",
    "                           'dx':dx,\n",
    "                           'dz':dz})\n",
    "    \n",
    "    # Get convergence map\n",
    "    m = convergence_Born(cosmology, \n",
    "                          lensplanes,\n",
    "                          coords=jnp.array(c).T.reshape(2,field_npix,field_npix),\n",
    "                          z_source=z_source)\n",
    "    return m"
   ]
  },
  {
   "cell_type": "code",
   "execution_count": 9,
   "metadata": {},
   "outputs": [
    {
     "name": "stderr",
     "output_type": "stream",
     "text": [
      "/Users/chihwaychang/anaconda3/lib/python3.8/site-packages/jax/_src/numpy/lax_numpy.py:4459: UserWarning: Explicitly requested dtype <class 'jax.numpy.int64'> requested in astype is not available, and will be truncated to dtype int32. To enable more dtypes, set the jax_enable_x64 configuration option or the JAX_ENABLE_X64 shell environment variable. See https://github.com/google/jax#current-gotchas for more.\n",
      "  lax_internal._check_user_dtype_supported(dtype, \"astype\")\n"
     ]
    }
   ],
   "source": [
    "m = make_map()"
   ]
  },
  {
   "cell_type": "code",
   "execution_count": 10,
   "metadata": {},
   "outputs": [
    {
     "name": "stdout",
     "output_type": "stream",
     "text": [
      "16.6 s ± 224 ms per loop (mean ± std. dev. of 7 runs, 1 loop each)\n"
     ]
    }
   ],
   "source": [
    "%timeit m = make_map()"
   ]
  },
  {
   "cell_type": "code",
   "execution_count": null,
   "metadata": {},
   "outputs": [],
   "source": [
    "figure(figsize=[20,20])\n",
    "for i in range(39):\n",
    "    subplot(7,7,i+1)\n",
    "    imshow(lensplanes[i][-1])\n",
    "    axis('off')"
   ]
  }
 ],
 "metadata": {
  "kernelspec": {
   "display_name": "Python 3",
   "language": "python",
   "name": "python3"
  },
  "language_info": {
   "codemirror_mode": {
    "name": "ipython",
    "version": 3
   },
   "file_extension": ".py",
   "mimetype": "text/x-python",
   "name": "python",
   "nbconvert_exporter": "python",
   "pygments_lexer": "ipython3",
   "version": "3.8.6"
  }
 },
 "nbformat": 4,
 "nbformat_minor": 4
}
